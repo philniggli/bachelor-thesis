{
 "cells": [
  {
   "cell_type": "markdown",
   "metadata": {},
   "source": [
    "# Automated classification of crowdsourcing contributions by machine learning"
   ]
  },
  {
   "cell_type": "markdown",
   "metadata": {},
   "source": [
    "This model was developed in the context of my bachelor thesis. From more than 30 features, 12 features were selected below to determine a good quality crowdsourcing contribution. If you are interested in my bachelor thesis \"Automatic Quality Control and Classification of Crowdsourcing Contributions by Machine Learning\" (only German), please feel free to contact me at the following email address: philipp.niggli@student.unisg.ch"
   ]
  },
  {
   "cell_type": "markdown",
   "metadata": {},
   "source": [
    "**Abstract** of my Bachelor Thesis:\n",
    "\n",
    "Crowdsourcing is a new innovative form of a web-based business model and involves the work of a company or institution, outsourced to a distributed group of people over a network or platform, in the format of an open call. The manual review and classification of large amounts of unstructured data, such as solutions, ideas or feedback, is an enormous challenge for companies. It is usually a time-consuming and resource-intensive process. The results of this work show that it is possible to reliably classify and predict the quality of crowdsourcing contributions using text mining techniques and machine learning based on textual properties. The length of a contribution as a characteristic plays the most important role."
   ]
  },
  {
   "cell_type": "markdown",
   "metadata": {},
   "source": [
    "# Import Packages"
   ]
  },
  {
   "cell_type": "code",
   "execution_count": 1,
   "metadata": {
    "scrolled": true
   },
   "outputs": [],
   "source": [
    "import pandas as pd\n",
    "import numpy as np\n",
    "import matplotlib.pyplot as plt\n",
    "import seaborn as sn\n",
    "import nltk\n",
    "import string\n",
    "import textstat\n",
    "from collections import Counter\n",
    "from string import punctuation\n",
    "from nltk.tokenize import sent_tokenize\n",
    "from nltk.tokenize import word_tokenize \n",
    "from nltk.stem.snowball import SnowballStemmer\n",
    "from nltk.corpus import stopwords \n",
    "from nltk.corpus import opinion_lexicon\n",
    "from sklearn.metrics import accuracy_score\n",
    "from sklearn.model_selection import KFold\n",
    "from sklearn.metrics import confusion_matrix\n",
    "from sklearn.ensemble import RandomForestClassifier\n",
    "from sklearn.metrics import roc_curve, auc\n",
    "from sklearn.model_selection import StratifiedKFold\n",
    "from scipy import interp"
   ]
  },
  {
   "cell_type": "markdown",
   "metadata": {},
   "source": [
    "# Import Data"
   ]
  },
  {
   "cell_type": "code",
   "execution_count": 2,
   "metadata": {},
   "outputs": [],
   "source": [
    "file = pd.ExcelFile('Daten.xlsx')\n",
    "df = file.parse('Worksheet')\n",
    "feedbacks = df['like'].values\n",
    "df['feedbacks'] = df['like']"
   ]
  },
  {
   "cell_type": "markdown",
   "metadata": {},
   "source": [
    "# Pre-Processing"
   ]
  },
  {
   "cell_type": "markdown",
   "metadata": {},
   "source": [
    "**Punctuation removal**\n",
    "\n",
    "Source: https://medium.com/@pemagrg/pre-processing-text-in-python-ad13ea544dae"
   ]
  },
  {
   "cell_type": "code",
   "execution_count": 3,
   "metadata": {},
   "outputs": [],
   "source": [
    "def strip_punctuation(s):\n",
    "    return ''.join(c for c in s if c not in punctuation) "
   ]
  },
  {
   "cell_type": "markdown",
   "metadata": {},
   "source": [
    "**Tokenizer**\n",
    "\n",
    "Source: https://www.nltk.org"
   ]
  },
  {
   "cell_type": "code",
   "execution_count": 4,
   "metadata": {},
   "outputs": [],
   "source": [
    "def tokenizer(text):\n",
    "    return nltk.word_tokenize(text)"
   ]
  },
  {
   "cell_type": "markdown",
   "metadata": {},
   "source": [
    "**Part of speech tagging**\n",
    "\n",
    "Source: https://www.nltk.org"
   ]
  },
  {
   "cell_type": "code",
   "execution_count": 5,
   "metadata": {},
   "outputs": [],
   "source": [
    "def tagging(tokens):\n",
    "    return nltk.pos_tag(tokens)"
   ]
  },
  {
   "cell_type": "markdown",
   "metadata": {},
   "source": [
    "**Stemming**\n",
    "\n",
    "Source: http://www.nltk.org/howto/stem.html"
   ]
  },
  {
   "cell_type": "code",
   "execution_count": 6,
   "metadata": {},
   "outputs": [],
   "source": [
    "def stemming(text):\n",
    "    stemmer = SnowballStemmer(\"english\")    \n",
    "    return stemmer.stem(text)"
   ]
  },
  {
   "cell_type": "markdown",
   "metadata": {},
   "source": [
    "**Stop word Filtering**\n",
    "\n",
    "Source: https://www.geeksforgeeks.org/removing-stop-words-nltk-python/"
   ]
  },
  {
   "cell_type": "code",
   "execution_count": 7,
   "metadata": {},
   "outputs": [],
   "source": [
    "def stopword(text):\n",
    "    stop_words = set(stopwords.words('english')) \n",
    "    word_tokens = word_tokenize(text)\n",
    "    filtered_sentence = [w for w in word_tokens if not w in stop_words]\n",
    "    filtered_sentence = [] \n",
    "    \n",
    "    for w in word_tokens: \n",
    "         if w not in stop_words: \n",
    "             filtered_sentence.append(w) "
   ]
  },
  {
   "cell_type": "markdown",
   "metadata": {},
   "source": [
    "# Features"
   ]
  },
  {
   "cell_type": "markdown",
   "metadata": {},
   "source": [
    "**Average number of letters per sentence**"
   ]
  },
  {
   "cell_type": "code",
   "execution_count": 8,
   "metadata": {},
   "outputs": [],
   "source": [
    "def averageLetters(feedback):\n",
    "    #number of sentence\n",
    "    sentences = sent_tokenize(feedback)\n",
    "    countSentences = len(sentences)\n",
    "    \n",
    "    #number of letters\n",
    "    letterCount = len(strip_punctuation(feedback))\n",
    "    \n",
    "    average = letterCount / countSentences\n",
    "    return average\n",
    "\n",
    "df['1'] = df['feedbacks'].apply(averageLetters)"
   ]
  },
  {
   "cell_type": "markdown",
   "metadata": {},
   "source": [
    "**Syllable percentage** of letters"
   ]
  },
  {
   "cell_type": "code",
   "execution_count": 9,
   "metadata": {},
   "outputs": [],
   "source": [
    "def syllablePercentage(feedback):\n",
    "    letterCount = len(strip_punctuation(feedback))\n",
    "    syllableCount = textstat.syllable_count(feedback, lang='en_GB')\n",
    "    syllablePercentage = syllableCount / letterCount\n",
    "    return syllablePercentage\n",
    "   \n",
    "df['2'] = df['feedbacks'].apply(syllablePercentage)"
   ]
  },
  {
   "cell_type": "markdown",
   "metadata": {},
   "source": [
    "**Average number of words per sentence**"
   ]
  },
  {
   "cell_type": "code",
   "execution_count": 10,
   "metadata": {},
   "outputs": [],
   "source": [
    "def averageWords(feedback):\n",
    "    #number of sentence\n",
    "    sentences = sent_tokenize(feedback)\n",
    "    countSentences = len(sentences)\n",
    "    \n",
    "    #number of words\n",
    "    tokens = tokenizer(strip_punctuation(feedback)) \n",
    "    tokensCount = len(tokens) #count tokens\n",
    "    \n",
    "    average = tokensCount / countSentences\n",
    "    return average\n",
    "\n",
    "df['3'] = df['feedbacks'].apply(averageWords)"
   ]
  },
  {
   "cell_type": "markdown",
   "metadata": {},
   "source": [
    "**Coleman Liau Index**\n",
    "\n",
    "Source: https://pypi.org/project/textstat/"
   ]
  },
  {
   "cell_type": "code",
   "execution_count": 11,
   "metadata": {},
   "outputs": [],
   "source": [
    "def colemanLiau(feedback):\n",
    "    index = textstat.coleman_liau_index(feedback)\n",
    "    return index\n",
    "\n",
    "df['4'] = df['feedbacks'].apply(colemanLiau)"
   ]
  },
  {
   "cell_type": "markdown",
   "metadata": {},
   "source": [
    "**Commas count**"
   ]
  },
  {
   "cell_type": "code",
   "execution_count": 12,
   "metadata": {},
   "outputs": [],
   "source": [
    "def commaCount(feedback):\n",
    "    #number of \",\"\n",
    "    commaCount=0\n",
    "    my_word=\",\"\n",
    "    if my_word in feedback:\n",
    "        commaCount += 1\n",
    "    return commaCount\n",
    "\n",
    "df['5'] = df['feedbacks'].apply(commaCount)"
   ]
  },
  {
   "cell_type": "markdown",
   "metadata": {},
   "source": [
    "**\"!\" and \"?\" count**"
   ]
  },
  {
   "cell_type": "code",
   "execution_count": 13,
   "metadata": {},
   "outputs": [],
   "source": [
    "def explanationCount(feedback):    \n",
    "    #number of \"!\"\n",
    "    count1 = feedback.count(\"!\")\n",
    "    count2 = feedback.count(\"?\")\n",
    "    countSum = count1 + count2  \n",
    "    return countSum\n",
    "\n",
    "df['6 & 7'] = df['feedbacks'].apply(explanationCount)"
   ]
  },
  {
   "cell_type": "markdown",
   "metadata": {},
   "source": [
    "**Sentence count**\n",
    "\n",
    "Source: https://pypi.org/project/textstat/"
   ]
  },
  {
   "cell_type": "code",
   "execution_count": 14,
   "metadata": {},
   "outputs": [],
   "source": [
    "def sentenceCount(feedback):\n",
    "    sentenceCount = textstat.sentence_count(feedback)\n",
    "    return sentenceCount\n",
    "    \n",
    "df['8'] = df['feedbacks'].apply(sentenceCount)"
   ]
  },
  {
   "cell_type": "markdown",
   "metadata": {},
   "source": [
    "**Syllable Count**\n",
    "\n",
    "Source: https://pypi.org/project/textstat/"
   ]
  },
  {
   "cell_type": "code",
   "execution_count": 15,
   "metadata": {},
   "outputs": [],
   "source": [
    "def syllableCount(feedback):\n",
    "    syllableCount = textstat.syllable_count(feedback, lang='en_GB')\n",
    "    return syllableCount\n",
    "\n",
    "df['9'] = df['feedbacks'].apply(syllableCount)"
   ]
  },
  {
   "cell_type": "markdown",
   "metadata": {},
   "source": [
    "**Sentiment Analysis**\n",
    "\n",
    "Source: https://www.nltk.org/_modules/nltk/sentiment/util.html#demo_liu_hu_lexicon"
   ]
  },
  {
   "cell_type": "code",
   "execution_count": 16,
   "metadata": {},
   "outputs": [],
   "source": [
    "def sentimentCount(feedback):    \n",
    "    pos_words = 0\n",
    "    neg_words = 0\n",
    "    tokens = tokenizer(feedback)\n",
    "    \n",
    "    for word in tokens:\n",
    "        if word in opinion_lexicon.positive():\n",
    "            pos_words += 1\n",
    "        elif word in opinion_lexicon.negative():\n",
    "            neg_words += 1\n",
    "            \n",
    "    sentiment_words = pos_words + neg_words\n",
    "    return sentiment_words\n",
    "  \n",
    "df['10'] = df['feedbacks'].apply(sentimentCount)"
   ]
  },
  {
   "cell_type": "markdown",
   "metadata": {},
   "source": [
    "**Noun percentage**"
   ]
  },
  {
   "cell_type": "code",
   "execution_count": 17,
   "metadata": {},
   "outputs": [],
   "source": [
    "def nounPercentage(feedback):\n",
    "    tokens = tokenizer(strip_punctuation(feedback))\n",
    "    tagged = tagging(tokens) \n",
    "    counts = Counter( tag for word,  tag in tagged) #counts tags\n",
    "    tokensCount = len(tokens) #count tokens\n",
    "    countNoun = counts['NN'] + counts['NNS'] + counts['NNP'] + counts['NNPS']  #count noun\n",
    "    nounPercentage = countNoun / tokensCount * 100\n",
    "    return nounPercentage\n",
    "    \n",
    "df['11'] = df['feedbacks'].apply(nounPercentage)"
   ]
  },
  {
   "cell_type": "markdown",
   "metadata": {},
   "source": [
    "**Adjective / Adverb percentage**"
   ]
  },
  {
   "cell_type": "code",
   "execution_count": 18,
   "metadata": {},
   "outputs": [],
   "source": [
    "def adjectivePercentage(feedback):\n",
    "    tokens = tokenizer(strip_punctuation(feedback))\n",
    "    tagged = tagging(tokens) \n",
    "    counts = Counter( tag for word,  tag in tagged) #counts tags\n",
    "    tokensCount = len(tokens) #count tokens\n",
    "    countAdjective = counts['RB'] + counts['RBR'] + counts['RBS'] + counts['JJ'] + counts['JJR'] + counts['JJS'] + counts['WRB']#count adjective and adverb\n",
    "    adjectivePercentage = countAdjective / tokensCount * 100\n",
    "    return adjectivePercentage\n",
    "\n",
    "df['12'] = df['feedbacks'].apply(adjectivePercentage)"
   ]
  },
  {
   "cell_type": "markdown",
   "metadata": {},
   "source": [
    "# Machine Learning"
   ]
  },
  {
   "cell_type": "markdown",
   "metadata": {},
   "source": [
    "For this classifier the Random Forest algorithm was used with 1000 decision trees and a maximum depth of 10. Other types of machine learning algorithms, ensemble methods and PCA were not considered in this study.\n",
    "\n",
    "Source: https://scikit-learn.org/stable/modules/generated/sklearn.ensemble.RandomForestClassifier.html"
   ]
  },
  {
   "cell_type": "code",
   "execution_count": 19,
   "metadata": {},
   "outputs": [],
   "source": [
    "X = df.iloc[:,8:26]\n",
    "y = df['like_usefulness_binary']\n",
    "clf = RandomForestClassifier(n_estimators=1000, max_depth=10, random_state=0)"
   ]
  },
  {
   "cell_type": "markdown",
   "metadata": {},
   "source": [
    "# Evaluation"
   ]
  },
  {
   "cell_type": "markdown",
   "metadata": {},
   "source": [
    "**Cross Validation** for caluclating accurancy, sensitivity, specificity and precision"
   ]
  },
  {
   "cell_type": "code",
   "execution_count": 20,
   "metadata": {},
   "outputs": [
    {
     "name": "stdout",
     "output_type": "stream",
     "text": [
      "Accuracy: 0.8462 (+/- 0.0373)\n",
      "Sensitivity: 0.9107\n",
      "Specificity: 0.6986\n",
      "Precision: 0.8690\n",
      "[[ 74  29]\n",
      " [ 19 190]]\n"
     ]
    }
   ],
   "source": [
    "accuracy_model = []\n",
    "sensitivity = []\n",
    "specificity = []\n",
    "precision = []\n",
    "confusion_model2 = []\n",
    "\n",
    "kf = KFold(n_splits=10,shuffle=False)\n",
    "\n",
    "for train_index, test_index in kf.split(X):\n",
    "    # Split train-test\n",
    "    X_train, X_test = X.iloc[train_index], X.iloc[test_index]\n",
    "    y_train, y_test = y[train_index], y[test_index]\n",
    "    # Train the model\n",
    "    model = clf.fit(X_train, y_train)\n",
    "    # Append to accuracy_model the accuracy of the model\n",
    "    accuracy_model.append(accuracy_score(y_test, model.predict(X_test), normalize=True))# Print the accuracy   \n",
    "    \n",
    "    confusion_model = confusion_matrix(y_test, model.predict(X_test))\n",
    "    sensitivity1 = confusion_model[1,1]/(confusion_model[1,1]+confusion_model[1,0])\n",
    "    specificity1 = confusion_model[0,0]/(confusion_model[0,0]+confusion_model[0,1])\n",
    "    precision1 = confusion_model[1,1]/(confusion_model[1,1]+confusion_model[0,1])\n",
    "    \n",
    "    sensitivity.append(sensitivity1)\n",
    "    specificity.append(specificity1)\n",
    "    precision.append(precision1)\n",
    "    confusion_model1 = np.array(confusion_model)\n",
    "    confusion_model2.append(confusion_model1) \n",
    "\n",
    "print(\"Accuracy: %0.4f (+/- %0.4f)\" % (np.mean(accuracy_model), np.std(accuracy_model)))\n",
    "print(\"Sensitivity: %0.4f\" % (np.mean(sensitivity)))\n",
    "print(\"Specificity: %0.4f\" % (np.mean(specificity)))\n",
    "print(\"Precision: %0.4f\" % (np.mean(precision)))\n",
    "\n",
    "array = sum(confusion_model2)\n",
    "print(array)"
   ]
  },
  {
   "cell_type": "markdown",
   "metadata": {},
   "source": [
    "**Confusion Matrix**"
   ]
  },
  {
   "cell_type": "code",
   "execution_count": 21,
   "metadata": {},
   "outputs": [
    {
     "data": {
      "image/png": "[encoded data removed]",
      "text/plain": [
       "<Figure size 576x432 with 2 Axes>"
      ]
     },
     "metadata": {
      "needs_background": "light"
     },
     "output_type": "display_data"
    }
   ],
   "source": [
    "data = array\n",
    "df_cm = pd.DataFrame(data)\n",
    "df_cm.index.name = 'Actual'\n",
    "df_cm.columns.name = 'Predicted'\n",
    "\n",
    "plt.figure(figsize = (8,6))\n",
    "plt.title('Confusion matrix of the classifier')\n",
    "sn.set(font_scale=1.2)#for label size\n",
    "ax = sn.heatmap(df_cm, cmap=\"Blues\", annot=True, fmt=\"d\", linewidths=.5)\n",
    "bottom, top = ax.get_ylim()\n",
    "ax.set_ylim(bottom + 0.5, top - 0.5)\n",
    "plt.show()"
   ]
  },
  {
   "cell_type": "markdown",
   "metadata": {},
   "source": [
    "**Feature importance**"
   ]
  },
  {
   "cell_type": "code",
   "execution_count": 22,
   "metadata": {},
   "outputs": [
    {
     "name": "stdout",
     "output_type": "stream",
     "text": [
      "[0.12744365 0.063924   0.09779157 0.10503231 0.02305229 0.00816281\n",
      " 0.07465392 0.30133087 0.05733119 0.07331885 0.06795855]\n"
     ]
    },
    {
     "data": {
      "image/png": "[encoded data removed]",
      "text/plain": [
       "<Figure size 1080x576 with 1 Axes>"
      ]
     },
     "metadata": {},
     "output_type": "display_data"
    }
   ],
   "source": [
    "importances = clf.feature_importances_\n",
    "print(clf.feature_importances_)\n",
    "\n",
    "std = np.std([tree.feature_importances_ for tree in clf.estimators_],\n",
    "             axis=0)\n",
    "indices = np.argsort(importances)[::-1]\n",
    "\n",
    "# Plot the feature importances of the forest\n",
    "plt.figure(figsize = (15,8))\n",
    "plt.title(\"Feature importances\")\n",
    "plt.bar(range(X.shape[1]), importances[indices],\n",
    "       color=\"b\", yerr=std[indices], align=\"center\")\n",
    "plt.xticks(range(X.shape[1]), indices)\n",
    "plt.xlim([-1, X.shape[1]])\n",
    "plt.show()"
   ]
  },
  {
   "cell_type": "markdown",
   "metadata": {},
   "source": [
    "**Feature correlation matrix**\n",
    "\n",
    "Source: https://stackoverflow.com/questions/29432629/plot-correlation-matrix-using-pandas/50703596"
   ]
  },
  {
   "cell_type": "code",
   "execution_count": 23,
   "metadata": {},
   "outputs": [
    {
     "data": {
      "text/html": [
       "<style  type=\"text/css\" >\n",
       "    #T_59d686e6_0ecc_11ea_bc09_b8e8563e215crow0_col0 {\n",
       "            background-color:  #b40426;\n",
       "            color:  #f1f1f1;\n",
       "        }    #T_59d686e6_0ecc_11ea_bc09_b8e8563e215crow0_col1 {\n",
       "            background-color:  #4f69d9;\n",
       "            color:  #000000;\n",
       "        }    #T_59d686e6_0ecc_11ea_bc09_b8e8563e215crow0_col2 {\n",
       "            background-color:  #b70d28;\n",
       "            color:  #f1f1f1;\n",
       "        }    #T_59d686e6_0ecc_11ea_bc09_b8e8563e215crow0_col3 {\n",
       "            background-color:  #b1cbfc;\n",
       "            color:  #000000;\n",
       "        }    #T_59d686e6_0ecc_11ea_bc09_b8e8563e215crow0_col4 {\n",
       "            background-color:  #abc8fd;\n",
       "            color:  #000000;\n",
       "        }    #T_59d686e6_0ecc_11ea_bc09_b8e8563e215crow0_col5 {\n",
       "            background-color:  #4c66d6;\n",
       "            color:  #000000;\n",
       "        }    #T_59d686e6_0ecc_11ea_bc09_b8e8563e215crow0_col6 {\n",
       "            background-color:  #3b4cc0;\n",
       "            color:  #f1f1f1;\n",
       "        }    #T_59d686e6_0ecc_11ea_bc09_b8e8563e215crow0_col7 {\n",
       "            background-color:  #cbd8ee;\n",
       "            color:  #000000;\n",
       "        }    #T_59d686e6_0ecc_11ea_bc09_b8e8563e215crow0_col8 {\n",
       "            background-color:  #b5cdfa;\n",
       "            color:  #000000;\n",
       "        }    #T_59d686e6_0ecc_11ea_bc09_b8e8563e215crow0_col9 {\n",
       "            background-color:  #7b9ff9;\n",
       "            color:  #000000;\n",
       "        }    #T_59d686e6_0ecc_11ea_bc09_b8e8563e215crow0_col10 {\n",
       "            background-color:  #89acfd;\n",
       "            color:  #000000;\n",
       "        }    #T_59d686e6_0ecc_11ea_bc09_b8e8563e215crow1_col0 {\n",
       "            background-color:  #5673e0;\n",
       "            color:  #000000;\n",
       "        }    #T_59d686e6_0ecc_11ea_bc09_b8e8563e215crow1_col1 {\n",
       "            background-color:  #b40426;\n",
       "            color:  #f1f1f1;\n",
       "        }    #T_59d686e6_0ecc_11ea_bc09_b8e8563e215crow1_col2 {\n",
       "            background-color:  #536edd;\n",
       "            color:  #000000;\n",
       "        }    #T_59d686e6_0ecc_11ea_bc09_b8e8563e215crow1_col3 {\n",
       "            background-color:  #4b64d5;\n",
       "            color:  #f1f1f1;\n",
       "        }    #T_59d686e6_0ecc_11ea_bc09_b8e8563e215crow1_col4 {\n",
       "            background-color:  #4e68d8;\n",
       "            color:  #000000;\n",
       "        }    #T_59d686e6_0ecc_11ea_bc09_b8e8563e215crow1_col5 {\n",
       "            background-color:  #4f69d9;\n",
       "            color:  #000000;\n",
       "        }    #T_59d686e6_0ecc_11ea_bc09_b8e8563e215crow1_col6 {\n",
       "            background-color:  #4a63d3;\n",
       "            color:  #f1f1f1;\n",
       "        }    #T_59d686e6_0ecc_11ea_bc09_b8e8563e215crow1_col7 {\n",
       "            background-color:  #5470de;\n",
       "            color:  #000000;\n",
       "        }    #T_59d686e6_0ecc_11ea_bc09_b8e8563e215crow1_col8 {\n",
       "            background-color:  #5673e0;\n",
       "            color:  #000000;\n",
       "        }    #T_59d686e6_0ecc_11ea_bc09_b8e8563e215crow1_col9 {\n",
       "            background-color:  #adc9fd;\n",
       "            color:  #000000;\n",
       "        }    #T_59d686e6_0ecc_11ea_bc09_b8e8563e215crow1_col10 {\n",
       "            background-color:  #779af7;\n",
       "            color:  #000000;\n",
       "        }    #T_59d686e6_0ecc_11ea_bc09_b8e8563e215crow2_col0 {\n",
       "            background-color:  #b70d28;\n",
       "            color:  #f1f1f1;\n",
       "        }    #T_59d686e6_0ecc_11ea_bc09_b8e8563e215crow2_col1 {\n",
       "            background-color:  #4e68d8;\n",
       "            color:  #000000;\n",
       "        }    #T_59d686e6_0ecc_11ea_bc09_b8e8563e215crow2_col2 {\n",
       "            background-color:  #b40426;\n",
       "            color:  #f1f1f1;\n",
       "        }    #T_59d686e6_0ecc_11ea_bc09_b8e8563e215crow2_col3 {\n",
       "            background-color:  #8caffe;\n",
       "            color:  #000000;\n",
       "        }    #T_59d686e6_0ecc_11ea_bc09_b8e8563e215crow2_col4 {\n",
       "            background-color:  #b1cbfc;\n",
       "            color:  #000000;\n",
       "        }    #T_59d686e6_0ecc_11ea_bc09_b8e8563e215crow2_col5 {\n",
       "            background-color:  #4e68d8;\n",
       "            color:  #000000;\n",
       "        }    #T_59d686e6_0ecc_11ea_bc09_b8e8563e215crow2_col6 {\n",
       "            background-color:  #3d50c3;\n",
       "            color:  #f1f1f1;\n",
       "        }    #T_59d686e6_0ecc_11ea_bc09_b8e8563e215crow2_col7 {\n",
       "            background-color:  #cedaeb;\n",
       "            color:  #000000;\n",
       "        }    #T_59d686e6_0ecc_11ea_bc09_b8e8563e215crow2_col8 {\n",
       "            background-color:  #b3cdfb;\n",
       "            color:  #000000;\n",
       "        }    #T_59d686e6_0ecc_11ea_bc09_b8e8563e215crow2_col9 {\n",
       "            background-color:  #6e90f2;\n",
       "            color:  #000000;\n",
       "        }    #T_59d686e6_0ecc_11ea_bc09_b8e8563e215crow2_col10 {\n",
       "            background-color:  #84a7fc;\n",
       "            color:  #000000;\n",
       "        }    #T_59d686e6_0ecc_11ea_bc09_b8e8563e215crow3_col0 {\n",
       "            background-color:  #c1d4f4;\n",
       "            color:  #000000;\n",
       "        }    #T_59d686e6_0ecc_11ea_bc09_b8e8563e215crow3_col1 {\n",
       "            background-color:  #5a78e4;\n",
       "            color:  #000000;\n",
       "        }    #T_59d686e6_0ecc_11ea_bc09_b8e8563e215crow3_col2 {\n",
       "            background-color:  #9dbdff;\n",
       "            color:  #000000;\n",
       "        }    #T_59d686e6_0ecc_11ea_bc09_b8e8563e215crow3_col3 {\n",
       "            background-color:  #b40426;\n",
       "            color:  #f1f1f1;\n",
       "        }    #T_59d686e6_0ecc_11ea_bc09_b8e8563e215crow3_col4 {\n",
       "            background-color:  #6485ec;\n",
       "            color:  #000000;\n",
       "        }    #T_59d686e6_0ecc_11ea_bc09_b8e8563e215crow3_col5 {\n",
       "            background-color:  #445acc;\n",
       "            color:  #f1f1f1;\n",
       "        }    #T_59d686e6_0ecc_11ea_bc09_b8e8563e215crow3_col6 {\n",
       "            background-color:  #516ddb;\n",
       "            color:  #000000;\n",
       "        }    #T_59d686e6_0ecc_11ea_bc09_b8e8563e215crow3_col7 {\n",
       "            background-color:  #81a4fb;\n",
       "            color:  #000000;\n",
       "        }    #T_59d686e6_0ecc_11ea_bc09_b8e8563e215crow3_col8 {\n",
       "            background-color:  #8badfd;\n",
       "            color:  #000000;\n",
       "        }    #T_59d686e6_0ecc_11ea_bc09_b8e8563e215crow3_col9 {\n",
       "            background-color:  #b9d0f9;\n",
       "            color:  #000000;\n",
       "        }    #T_59d686e6_0ecc_11ea_bc09_b8e8563e215crow3_col10 {\n",
       "            background-color:  #b6cefa;\n",
       "            color:  #000000;\n",
       "        }    #T_59d686e6_0ecc_11ea_bc09_b8e8563e215crow4_col0 {\n",
       "            background-color:  #b3cdfb;\n",
       "            color:  #000000;\n",
       "        }    #T_59d686e6_0ecc_11ea_bc09_b8e8563e215crow4_col1 {\n",
       "            background-color:  #536edd;\n",
       "            color:  #000000;\n",
       "        }    #T_59d686e6_0ecc_11ea_bc09_b8e8563e215crow4_col2 {\n",
       "            background-color:  #b7cff9;\n",
       "            color:  #000000;\n",
       "        }    #T_59d686e6_0ecc_11ea_bc09_b8e8563e215crow4_col3 {\n",
       "            background-color:  #5977e3;\n",
       "            color:  #000000;\n",
       "        }    #T_59d686e6_0ecc_11ea_bc09_b8e8563e215crow4_col4 {\n",
       "            background-color:  #b40426;\n",
       "            color:  #f1f1f1;\n",
       "        }    #T_59d686e6_0ecc_11ea_bc09_b8e8563e215crow4_col5 {\n",
       "            background-color:  #7295f4;\n",
       "            color:  #000000;\n",
       "        }    #T_59d686e6_0ecc_11ea_bc09_b8e8563e215crow4_col6 {\n",
       "            background-color:  #b1cbfc;\n",
       "            color:  #000000;\n",
       "        }    #T_59d686e6_0ecc_11ea_bc09_b8e8563e215crow4_col7 {\n",
       "            background-color:  #d2dbe8;\n",
       "            color:  #000000;\n",
       "        }    #T_59d686e6_0ecc_11ea_bc09_b8e8563e215crow4_col8 {\n",
       "            background-color:  #cdd9ec;\n",
       "            color:  #000000;\n",
       "        }    #T_59d686e6_0ecc_11ea_bc09_b8e8563e215crow4_col9 {\n",
       "            background-color:  #6b8df0;\n",
       "            color:  #000000;\n",
       "        }    #T_59d686e6_0ecc_11ea_bc09_b8e8563e215crow4_col10 {\n",
       "            background-color:  #9fbfff;\n",
       "            color:  #000000;\n",
       "        }    #T_59d686e6_0ecc_11ea_bc09_b8e8563e215crow5_col0 {\n",
       "            background-color:  #688aef;\n",
       "            color:  #000000;\n",
       "        }    #T_59d686e6_0ecc_11ea_bc09_b8e8563e215crow5_col1 {\n",
       "            background-color:  #6384eb;\n",
       "            color:  #000000;\n",
       "        }    #T_59d686e6_0ecc_11ea_bc09_b8e8563e215crow5_col2 {\n",
       "            background-color:  #6687ed;\n",
       "            color:  #000000;\n",
       "        }    #T_59d686e6_0ecc_11ea_bc09_b8e8563e215crow5_col3 {\n",
       "            background-color:  #4961d2;\n",
       "            color:  #f1f1f1;\n",
       "        }    #T_59d686e6_0ecc_11ea_bc09_b8e8563e215crow5_col4 {\n",
       "            background-color:  #81a4fb;\n",
       "            color:  #000000;\n",
       "        }    #T_59d686e6_0ecc_11ea_bc09_b8e8563e215crow5_col5 {\n",
       "            background-color:  #b40426;\n",
       "            color:  #f1f1f1;\n",
       "        }    #T_59d686e6_0ecc_11ea_bc09_b8e8563e215crow5_col6 {\n",
       "            background-color:  #9bbcff;\n",
       "            color:  #000000;\n",
       "        }    #T_59d686e6_0ecc_11ea_bc09_b8e8563e215crow5_col7 {\n",
       "            background-color:  #9fbfff;\n",
       "            color:  #000000;\n",
       "        }    #T_59d686e6_0ecc_11ea_bc09_b8e8563e215crow5_col8 {\n",
       "            background-color:  #9fbfff;\n",
       "            color:  #000000;\n",
       "        }    #T_59d686e6_0ecc_11ea_bc09_b8e8563e215crow5_col9 {\n",
       "            background-color:  #85a8fc;\n",
       "            color:  #000000;\n",
       "        }    #T_59d686e6_0ecc_11ea_bc09_b8e8563e215crow5_col10 {\n",
       "            background-color:  #7b9ff9;\n",
       "            color:  #000000;\n",
       "        }    #T_59d686e6_0ecc_11ea_bc09_b8e8563e215crow6_col0 {\n",
       "            background-color:  #3b4cc0;\n",
       "            color:  #f1f1f1;\n",
       "        }    #T_59d686e6_0ecc_11ea_bc09_b8e8563e215crow6_col1 {\n",
       "            background-color:  #4358cb;\n",
       "            color:  #f1f1f1;\n",
       "        }    #T_59d686e6_0ecc_11ea_bc09_b8e8563e215crow6_col2 {\n",
       "            background-color:  #3b4cc0;\n",
       "            color:  #f1f1f1;\n",
       "        }    #T_59d686e6_0ecc_11ea_bc09_b8e8563e215crow6_col3 {\n",
       "            background-color:  #3b4cc0;\n",
       "            color:  #f1f1f1;\n",
       "        }    #T_59d686e6_0ecc_11ea_bc09_b8e8563e215crow6_col4 {\n",
       "            background-color:  #a7c5fe;\n",
       "            color:  #000000;\n",
       "        }    #T_59d686e6_0ecc_11ea_bc09_b8e8563e215crow6_col5 {\n",
       "            background-color:  #82a6fb;\n",
       "            color:  #000000;\n",
       "        }    #T_59d686e6_0ecc_11ea_bc09_b8e8563e215crow6_col6 {\n",
       "            background-color:  #b40426;\n",
       "            color:  #f1f1f1;\n",
       "        }    #T_59d686e6_0ecc_11ea_bc09_b8e8563e215crow6_col7 {\n",
       "            background-color:  #ee8468;\n",
       "            color:  #000000;\n",
       "        }    #T_59d686e6_0ecc_11ea_bc09_b8e8563e215crow6_col8 {\n",
       "            background-color:  #f7a889;\n",
       "            color:  #000000;\n",
       "        }    #T_59d686e6_0ecc_11ea_bc09_b8e8563e215crow6_col9 {\n",
       "            background-color:  #5f7fe8;\n",
       "            color:  #000000;\n",
       "        }    #T_59d686e6_0ecc_11ea_bc09_b8e8563e215crow6_col10 {\n",
       "            background-color:  #89acfd;\n",
       "            color:  #000000;\n",
       "        }    #T_59d686e6_0ecc_11ea_bc09_b8e8563e215crow7_col0 {\n",
       "            background-color:  #cedaeb;\n",
       "            color:  #000000;\n",
       "        }    #T_59d686e6_0ecc_11ea_bc09_b8e8563e215crow7_col1 {\n",
       "            background-color:  #506bda;\n",
       "            color:  #000000;\n",
       "        }    #T_59d686e6_0ecc_11ea_bc09_b8e8563e215crow7_col2 {\n",
       "            background-color:  #cfdaea;\n",
       "            color:  #000000;\n",
       "        }    #T_59d686e6_0ecc_11ea_bc09_b8e8563e215crow7_col3 {\n",
       "            background-color:  #6f92f3;\n",
       "            color:  #000000;\n",
       "        }    #T_59d686e6_0ecc_11ea_bc09_b8e8563e215crow7_col4 {\n",
       "            background-color:  #cedaeb;\n",
       "            color:  #000000;\n",
       "        }    #T_59d686e6_0ecc_11ea_bc09_b8e8563e215crow7_col5 {\n",
       "            background-color:  #8badfd;\n",
       "            color:  #000000;\n",
       "        }    #T_59d686e6_0ecc_11ea_bc09_b8e8563e215crow7_col6 {\n",
       "            background-color:  #ed8366;\n",
       "            color:  #000000;\n",
       "        }    #T_59d686e6_0ecc_11ea_bc09_b8e8563e215crow7_col7 {\n",
       "            background-color:  #b40426;\n",
       "            color:  #f1f1f1;\n",
       "        }    #T_59d686e6_0ecc_11ea_bc09_b8e8563e215crow7_col8 {\n",
       "            background-color:  #f5a081;\n",
       "            color:  #000000;\n",
       "        }    #T_59d686e6_0ecc_11ea_bc09_b8e8563e215crow7_col9 {\n",
       "            background-color:  #6485ec;\n",
       "            color:  #000000;\n",
       "        }    #T_59d686e6_0ecc_11ea_bc09_b8e8563e215crow7_col10 {\n",
       "            background-color:  #779af7;\n",
       "            color:  #000000;\n",
       "        }    #T_59d686e6_0ecc_11ea_bc09_b8e8563e215crow8_col0 {\n",
       "            background-color:  #a3c2fe;\n",
       "            color:  #000000;\n",
       "        }    #T_59d686e6_0ecc_11ea_bc09_b8e8563e215crow8_col1 {\n",
       "            background-color:  #3b4cc0;\n",
       "            color:  #f1f1f1;\n",
       "        }    #T_59d686e6_0ecc_11ea_bc09_b8e8563e215crow8_col2 {\n",
       "            background-color:  #a1c0ff;\n",
       "            color:  #000000;\n",
       "        }    #T_59d686e6_0ecc_11ea_bc09_b8e8563e215crow8_col3 {\n",
       "            background-color:  #5f7fe8;\n",
       "            color:  #000000;\n",
       "        }    #T_59d686e6_0ecc_11ea_bc09_b8e8563e215crow8_col4 {\n",
       "            background-color:  #b9d0f9;\n",
       "            color:  #000000;\n",
       "        }    #T_59d686e6_0ecc_11ea_bc09_b8e8563e215crow8_col5 {\n",
       "            background-color:  #7295f4;\n",
       "            color:  #000000;\n",
       "        }    #T_59d686e6_0ecc_11ea_bc09_b8e8563e215crow8_col6 {\n",
       "            background-color:  #f7b093;\n",
       "            color:  #000000;\n",
       "        }    #T_59d686e6_0ecc_11ea_bc09_b8e8563e215crow8_col7 {\n",
       "            background-color:  #f7a98b;\n",
       "            color:  #000000;\n",
       "        }    #T_59d686e6_0ecc_11ea_bc09_b8e8563e215crow8_col8 {\n",
       "            background-color:  #b40426;\n",
       "            color:  #f1f1f1;\n",
       "        }    #T_59d686e6_0ecc_11ea_bc09_b8e8563e215crow8_col9 {\n",
       "            background-color:  #4a63d3;\n",
       "            color:  #f1f1f1;\n",
       "        }    #T_59d686e6_0ecc_11ea_bc09_b8e8563e215crow8_col10 {\n",
       "            background-color:  #b5cdfa;\n",
       "            color:  #000000;\n",
       "        }    #T_59d686e6_0ecc_11ea_bc09_b8e8563e215crow9_col0 {\n",
       "            background-color:  #5673e0;\n",
       "            color:  #000000;\n",
       "        }    #T_59d686e6_0ecc_11ea_bc09_b8e8563e215crow9_col1 {\n",
       "            background-color:  #86a9fc;\n",
       "            color:  #000000;\n",
       "        }    #T_59d686e6_0ecc_11ea_bc09_b8e8563e215crow9_col2 {\n",
       "            background-color:  #455cce;\n",
       "            color:  #f1f1f1;\n",
       "        }    #T_59d686e6_0ecc_11ea_bc09_b8e8563e215crow9_col3 {\n",
       "            background-color:  #88abfd;\n",
       "            color:  #000000;\n",
       "        }    #T_59d686e6_0ecc_11ea_bc09_b8e8563e215crow9_col4 {\n",
       "            background-color:  #3b4cc0;\n",
       "            color:  #f1f1f1;\n",
       "        }    #T_59d686e6_0ecc_11ea_bc09_b8e8563e215crow9_col5 {\n",
       "            background-color:  #445acc;\n",
       "            color:  #f1f1f1;\n",
       "        }    #T_59d686e6_0ecc_11ea_bc09_b8e8563e215crow9_col6 {\n",
       "            background-color:  #3b4cc0;\n",
       "            color:  #f1f1f1;\n",
       "        }    #T_59d686e6_0ecc_11ea_bc09_b8e8563e215crow9_col7 {\n",
       "            background-color:  #3b4cc0;\n",
       "            color:  #f1f1f1;\n",
       "        }    #T_59d686e6_0ecc_11ea_bc09_b8e8563e215crow9_col8 {\n",
       "            background-color:  #3b4cc0;\n",
       "            color:  #f1f1f1;\n",
       "        }    #T_59d686e6_0ecc_11ea_bc09_b8e8563e215crow9_col9 {\n",
       "            background-color:  #b40426;\n",
       "            color:  #f1f1f1;\n",
       "        }    #T_59d686e6_0ecc_11ea_bc09_b8e8563e215crow9_col10 {\n",
       "            background-color:  #3b4cc0;\n",
       "            color:  #f1f1f1;\n",
       "        }    #T_59d686e6_0ecc_11ea_bc09_b8e8563e215crow10_col0 {\n",
       "            background-color:  #6687ed;\n",
       "            color:  #000000;\n",
       "        }    #T_59d686e6_0ecc_11ea_bc09_b8e8563e215crow10_col1 {\n",
       "            background-color:  #4b64d5;\n",
       "            color:  #f1f1f1;\n",
       "        }    #T_59d686e6_0ecc_11ea_bc09_b8e8563e215crow10_col2 {\n",
       "            background-color:  #5d7ce6;\n",
       "            color:  #000000;\n",
       "        }    #T_59d686e6_0ecc_11ea_bc09_b8e8563e215crow10_col3 {\n",
       "            background-color:  #84a7fc;\n",
       "            color:  #000000;\n",
       "        }    #T_59d686e6_0ecc_11ea_bc09_b8e8563e215crow10_col4 {\n",
       "            background-color:  #7295f4;\n",
       "            color:  #000000;\n",
       "        }    #T_59d686e6_0ecc_11ea_bc09_b8e8563e215crow10_col5 {\n",
       "            background-color:  #3b4cc0;\n",
       "            color:  #f1f1f1;\n",
       "        }    #T_59d686e6_0ecc_11ea_bc09_b8e8563e215crow10_col6 {\n",
       "            background-color:  #6687ed;\n",
       "            color:  #000000;\n",
       "        }    #T_59d686e6_0ecc_11ea_bc09_b8e8563e215crow10_col7 {\n",
       "            background-color:  #4e68d8;\n",
       "            color:  #000000;\n",
       "        }    #T_59d686e6_0ecc_11ea_bc09_b8e8563e215crow10_col8 {\n",
       "            background-color:  #a9c6fd;\n",
       "            color:  #000000;\n",
       "        }    #T_59d686e6_0ecc_11ea_bc09_b8e8563e215crow10_col9 {\n",
       "            background-color:  #3b4cc0;\n",
       "            color:  #f1f1f1;\n",
       "        }    #T_59d686e6_0ecc_11ea_bc09_b8e8563e215crow10_col10 {\n",
       "            background-color:  #b40426;\n",
       "            color:  #f1f1f1;\n",
       "        }</style><table id=\"T_59d686e6_0ecc_11ea_bc09_b8e8563e215c\" ><thead>    <tr>        <th class=\"blank level0\" ></th>        <th class=\"col_heading level0 col0\" >1</th>        <th class=\"col_heading level0 col1\" >2</th>        <th class=\"col_heading level0 col2\" >3</th>        <th class=\"col_heading level0 col3\" >4</th>        <th class=\"col_heading level0 col4\" >5</th>        <th class=\"col_heading level0 col5\" >6 & 7</th>        <th class=\"col_heading level0 col6\" >8</th>        <th class=\"col_heading level0 col7\" >9</th>        <th class=\"col_heading level0 col8\" >10</th>        <th class=\"col_heading level0 col9\" >11</th>        <th class=\"col_heading level0 col10\" >12</th>    </tr></thead><tbody>\n",
       "                <tr>\n",
       "                        <th id=\"T_59d686e6_0ecc_11ea_bc09_b8e8563e215clevel0_row0\" class=\"row_heading level0 row0\" >1</th>\n",
       "                        <td id=\"T_59d686e6_0ecc_11ea_bc09_b8e8563e215crow0_col0\" class=\"data row0 col0\" >1</td>\n",
       "                        <td id=\"T_59d686e6_0ecc_11ea_bc09_b8e8563e215crow0_col1\" class=\"data row0 col1\" >-0.0493733</td>\n",
       "                        <td id=\"T_59d686e6_0ecc_11ea_bc09_b8e8563e215crow0_col2\" class=\"data row0 col2\" >0.989262</td>\n",
       "                        <td id=\"T_59d686e6_0ecc_11ea_bc09_b8e8563e215crow0_col3\" class=\"data row0 col3\" >0.310347</td>\n",
       "                        <td id=\"T_59d686e6_0ecc_11ea_bc09_b8e8563e215crow0_col4\" class=\"data row0 col4\" >0.262749</td>\n",
       "                        <td id=\"T_59d686e6_0ecc_11ea_bc09_b8e8563e215crow0_col5\" class=\"data row0 col5\" >0.0102989</td>\n",
       "                        <td id=\"T_59d686e6_0ecc_11ea_bc09_b8e8563e215crow0_col6\" class=\"data row0 col6\" >-0.157018</td>\n",
       "                        <td id=\"T_59d686e6_0ecc_11ea_bc09_b8e8563e215crow0_col7\" class=\"data row0 col7\" >0.359132</td>\n",
       "                        <td id=\"T_59d686e6_0ecc_11ea_bc09_b8e8563e215crow0_col8\" class=\"data row0 col8\" >0.208805</td>\n",
       "                        <td id=\"T_59d686e6_0ecc_11ea_bc09_b8e8563e215crow0_col9\" class=\"data row0 col9\" >-0.0516423</td>\n",
       "                        <td id=\"T_59d686e6_0ecc_11ea_bc09_b8e8563e215crow0_col10\" class=\"data row0 col10\" >0.0019666</td>\n",
       "            </tr>\n",
       "            <tr>\n",
       "                        <th id=\"T_59d686e6_0ecc_11ea_bc09_b8e8563e215clevel0_row1\" class=\"row_heading level0 row1\" >2</th>\n",
       "                        <td id=\"T_59d686e6_0ecc_11ea_bc09_b8e8563e215crow1_col0\" class=\"data row1 col0\" >-0.0493733</td>\n",
       "                        <td id=\"T_59d686e6_0ecc_11ea_bc09_b8e8563e215crow1_col1\" class=\"data row1 col1\" >1</td>\n",
       "                        <td id=\"T_59d686e6_0ecc_11ea_bc09_b8e8563e215crow1_col2\" class=\"data row1 col2\" >-0.0539987</td>\n",
       "                        <td id=\"T_59d686e6_0ecc_11ea_bc09_b8e8563e215crow1_col3\" class=\"data row1 col3\" >-0.0111353</td>\n",
       "                        <td id=\"T_59d686e6_0ecc_11ea_bc09_b8e8563e215crow1_col4\" class=\"data row1 col4\" >-0.0392121</td>\n",
       "                        <td id=\"T_59d686e6_0ecc_11ea_bc09_b8e8563e215crow1_col5\" class=\"data row1 col5\" >0.0206676</td>\n",
       "                        <td id=\"T_59d686e6_0ecc_11ea_bc09_b8e8563e215crow1_col6\" class=\"data row1 col6\" >-0.0944135</td>\n",
       "                        <td id=\"T_59d686e6_0ecc_11ea_bc09_b8e8563e215crow1_col7\" class=\"data row1 col7\" >-0.0451156</td>\n",
       "                        <td id=\"T_59d686e6_0ecc_11ea_bc09_b8e8563e215crow1_col8\" class=\"data row1 col8\" >-0.128129</td>\n",
       "                        <td id=\"T_59d686e6_0ecc_11ea_bc09_b8e8563e215crow1_col9\" class=\"data row1 col9\" >0.13238</td>\n",
       "                        <td id=\"T_59d686e6_0ecc_11ea_bc09_b8e8563e215crow1_col10\" class=\"data row1 col10\" >-0.0654125</td>\n",
       "            </tr>\n",
       "            <tr>\n",
       "                        <th id=\"T_59d686e6_0ecc_11ea_bc09_b8e8563e215clevel0_row2\" class=\"row_heading level0 row2\" >3</th>\n",
       "                        <td id=\"T_59d686e6_0ecc_11ea_bc09_b8e8563e215crow2_col0\" class=\"data row2 col0\" >0.989262</td>\n",
       "                        <td id=\"T_59d686e6_0ecc_11ea_bc09_b8e8563e215crow2_col1\" class=\"data row2 col1\" >-0.0539987</td>\n",
       "                        <td id=\"T_59d686e6_0ecc_11ea_bc09_b8e8563e215crow2_col2\" class=\"data row2 col2\" >1</td>\n",
       "                        <td id=\"T_59d686e6_0ecc_11ea_bc09_b8e8563e215crow2_col3\" class=\"data row2 col3\" >0.194709</td>\n",
       "                        <td id=\"T_59d686e6_0ecc_11ea_bc09_b8e8563e215crow2_col4\" class=\"data row2 col4\" >0.281921</td>\n",
       "                        <td id=\"T_59d686e6_0ecc_11ea_bc09_b8e8563e215crow2_col5\" class=\"data row2 col5\" >0.0152949</td>\n",
       "                        <td id=\"T_59d686e6_0ecc_11ea_bc09_b8e8563e215crow2_col6\" class=\"data row2 col6\" >-0.14473</td>\n",
       "                        <td id=\"T_59d686e6_0ecc_11ea_bc09_b8e8563e215crow2_col7\" class=\"data row2 col7\" >0.370995</td>\n",
       "                        <td id=\"T_59d686e6_0ecc_11ea_bc09_b8e8563e215crow2_col8\" class=\"data row2 col8\" >0.206662</td>\n",
       "                        <td id=\"T_59d686e6_0ecc_11ea_bc09_b8e8563e215crow2_col9\" class=\"data row2 col9\" >-0.103982</td>\n",
       "                        <td id=\"T_59d686e6_0ecc_11ea_bc09_b8e8563e215crow2_col10\" class=\"data row2 col10\" >-0.0183579</td>\n",
       "            </tr>\n",
       "            <tr>\n",
       "                        <th id=\"T_59d686e6_0ecc_11ea_bc09_b8e8563e215clevel0_row3\" class=\"row_heading level0 row3\" >4</th>\n",
       "                        <td id=\"T_59d686e6_0ecc_11ea_bc09_b8e8563e215crow3_col0\" class=\"data row3 col0\" >0.310347</td>\n",
       "                        <td id=\"T_59d686e6_0ecc_11ea_bc09_b8e8563e215crow3_col1\" class=\"data row3 col1\" >-0.0111353</td>\n",
       "                        <td id=\"T_59d686e6_0ecc_11ea_bc09_b8e8563e215crow3_col2\" class=\"data row3 col2\" >0.194709</td>\n",
       "                        <td id=\"T_59d686e6_0ecc_11ea_bc09_b8e8563e215crow3_col3\" class=\"data row3 col3\" >1</td>\n",
       "                        <td id=\"T_59d686e6_0ecc_11ea_bc09_b8e8563e215crow3_col4\" class=\"data row3 col4\" >0.0384312</td>\n",
       "                        <td id=\"T_59d686e6_0ecc_11ea_bc09_b8e8563e215crow3_col5\" class=\"data row3 col5\" >-0.0179565</td>\n",
       "                        <td id=\"T_59d686e6_0ecc_11ea_bc09_b8e8563e215crow3_col6\" class=\"data row3 col6\" >-0.0698065</td>\n",
       "                        <td id=\"T_59d686e6_0ecc_11ea_bc09_b8e8563e215crow3_col7\" class=\"data row3 col7\" >0.107273</td>\n",
       "                        <td id=\"T_59d686e6_0ecc_11ea_bc09_b8e8563e215crow3_col8\" class=\"data row3 col8\" >0.0592804</td>\n",
       "                        <td id=\"T_59d686e6_0ecc_11ea_bc09_b8e8563e215crow3_col9\" class=\"data row3 col9\" >0.183044</td>\n",
       "                        <td id=\"T_59d686e6_0ecc_11ea_bc09_b8e8563e215crow3_col10\" class=\"data row3 col10\" >0.169395</td>\n",
       "            </tr>\n",
       "            <tr>\n",
       "                        <th id=\"T_59d686e6_0ecc_11ea_bc09_b8e8563e215clevel0_row4\" class=\"row_heading level0 row4\" >5</th>\n",
       "                        <td id=\"T_59d686e6_0ecc_11ea_bc09_b8e8563e215crow4_col0\" class=\"data row4 col0\" >0.262749</td>\n",
       "                        <td id=\"T_59d686e6_0ecc_11ea_bc09_b8e8563e215crow4_col1\" class=\"data row4 col1\" >-0.0392121</td>\n",
       "                        <td id=\"T_59d686e6_0ecc_11ea_bc09_b8e8563e215crow4_col2\" class=\"data row4 col2\" >0.281921</td>\n",
       "                        <td id=\"T_59d686e6_0ecc_11ea_bc09_b8e8563e215crow4_col3\" class=\"data row4 col3\" >0.0384312</td>\n",
       "                        <td id=\"T_59d686e6_0ecc_11ea_bc09_b8e8563e215crow4_col4\" class=\"data row4 col4\" >1</td>\n",
       "                        <td id=\"T_59d686e6_0ecc_11ea_bc09_b8e8563e215crow4_col5\" class=\"data row4 col5\" >0.128837</td>\n",
       "                        <td id=\"T_59d686e6_0ecc_11ea_bc09_b8e8563e215crow4_col6\" class=\"data row4 col6\" >0.250104</td>\n",
       "                        <td id=\"T_59d686e6_0ecc_11ea_bc09_b8e8563e215crow4_col7\" class=\"data row4 col7\" >0.386018</td>\n",
       "                        <td id=\"T_59d686e6_0ecc_11ea_bc09_b8e8563e215crow4_col8\" class=\"data row4 col8\" >0.308481</td>\n",
       "                        <td id=\"T_59d686e6_0ecc_11ea_bc09_b8e8563e215crow4_col9\" class=\"data row4 col9\" >-0.111124</td>\n",
       "                        <td id=\"T_59d686e6_0ecc_11ea_bc09_b8e8563e215crow4_col10\" class=\"data row4 col10\" >0.0818227</td>\n",
       "            </tr>\n",
       "            <tr>\n",
       "                        <th id=\"T_59d686e6_0ecc_11ea_bc09_b8e8563e215clevel0_row5\" class=\"row_heading level0 row5\" >6 & 7</th>\n",
       "                        <td id=\"T_59d686e6_0ecc_11ea_bc09_b8e8563e215crow5_col0\" class=\"data row5 col0\" >0.0102989</td>\n",
       "                        <td id=\"T_59d686e6_0ecc_11ea_bc09_b8e8563e215crow5_col1\" class=\"data row5 col1\" >0.0206676</td>\n",
       "                        <td id=\"T_59d686e6_0ecc_11ea_bc09_b8e8563e215crow5_col2\" class=\"data row5 col2\" >0.0152949</td>\n",
       "                        <td id=\"T_59d686e6_0ecc_11ea_bc09_b8e8563e215crow5_col3\" class=\"data row5 col3\" >-0.0179565</td>\n",
       "                        <td id=\"T_59d686e6_0ecc_11ea_bc09_b8e8563e215crow5_col4\" class=\"data row5 col4\" >0.128837</td>\n",
       "                        <td id=\"T_59d686e6_0ecc_11ea_bc09_b8e8563e215crow5_col5\" class=\"data row5 col5\" >1</td>\n",
       "                        <td id=\"T_59d686e6_0ecc_11ea_bc09_b8e8563e215crow5_col6\" class=\"data row5 col6\" >0.178697</td>\n",
       "                        <td id=\"T_59d686e6_0ecc_11ea_bc09_b8e8563e215crow5_col7\" class=\"data row5 col7\" >0.204105</td>\n",
       "                        <td id=\"T_59d686e6_0ecc_11ea_bc09_b8e8563e215crow5_col8\" class=\"data row5 col8\" >0.13175</td>\n",
       "                        <td id=\"T_59d686e6_0ecc_11ea_bc09_b8e8563e215crow5_col9\" class=\"data row5 col9\" >-0.0157343</td>\n",
       "                        <td id=\"T_59d686e6_0ecc_11ea_bc09_b8e8563e215crow5_col10\" class=\"data row5 col10\" >-0.052681</td>\n",
       "            </tr>\n",
       "            <tr>\n",
       "                        <th id=\"T_59d686e6_0ecc_11ea_bc09_b8e8563e215clevel0_row6\" class=\"row_heading level0 row6\" >8</th>\n",
       "                        <td id=\"T_59d686e6_0ecc_11ea_bc09_b8e8563e215crow6_col0\" class=\"data row6 col0\" >-0.157018</td>\n",
       "                        <td id=\"T_59d686e6_0ecc_11ea_bc09_b8e8563e215crow6_col1\" class=\"data row6 col1\" >-0.0944135</td>\n",
       "                        <td id=\"T_59d686e6_0ecc_11ea_bc09_b8e8563e215crow6_col2\" class=\"data row6 col2\" >-0.14473</td>\n",
       "                        <td id=\"T_59d686e6_0ecc_11ea_bc09_b8e8563e215crow6_col3\" class=\"data row6 col3\" >-0.0698065</td>\n",
       "                        <td id=\"T_59d686e6_0ecc_11ea_bc09_b8e8563e215crow6_col4\" class=\"data row6 col4\" >0.250104</td>\n",
       "                        <td id=\"T_59d686e6_0ecc_11ea_bc09_b8e8563e215crow6_col5\" class=\"data row6 col5\" >0.178697</td>\n",
       "                        <td id=\"T_59d686e6_0ecc_11ea_bc09_b8e8563e215crow6_col6\" class=\"data row6 col6\" >1</td>\n",
       "                        <td id=\"T_59d686e6_0ecc_11ea_bc09_b8e8563e215crow6_col7\" class=\"data row6 col7\" >0.7695</td>\n",
       "                        <td id=\"T_59d686e6_0ecc_11ea_bc09_b8e8563e215crow6_col8\" class=\"data row6 col8\" >0.641644</td>\n",
       "                        <td id=\"T_59d686e6_0ecc_11ea_bc09_b8e8563e215crow6_col9\" class=\"data row6 col9\" >-0.157254</td>\n",
       "                        <td id=\"T_59d686e6_0ecc_11ea_bc09_b8e8563e215crow6_col10\" class=\"data row6 col10\" >0.00155006</td>\n",
       "            </tr>\n",
       "            <tr>\n",
       "                        <th id=\"T_59d686e6_0ecc_11ea_bc09_b8e8563e215clevel0_row7\" class=\"row_heading level0 row7\" >9</th>\n",
       "                        <td id=\"T_59d686e6_0ecc_11ea_bc09_b8e8563e215crow7_col0\" class=\"data row7 col0\" >0.359132</td>\n",
       "                        <td id=\"T_59d686e6_0ecc_11ea_bc09_b8e8563e215crow7_col1\" class=\"data row7 col1\" >-0.0451156</td>\n",
       "                        <td id=\"T_59d686e6_0ecc_11ea_bc09_b8e8563e215crow7_col2\" class=\"data row7 col2\" >0.370995</td>\n",
       "                        <td id=\"T_59d686e6_0ecc_11ea_bc09_b8e8563e215crow7_col3\" class=\"data row7 col3\" >0.107273</td>\n",
       "                        <td id=\"T_59d686e6_0ecc_11ea_bc09_b8e8563e215crow7_col4\" class=\"data row7 col4\" >0.386018</td>\n",
       "                        <td id=\"T_59d686e6_0ecc_11ea_bc09_b8e8563e215crow7_col5\" class=\"data row7 col5\" >0.204105</td>\n",
       "                        <td id=\"T_59d686e6_0ecc_11ea_bc09_b8e8563e215crow7_col6\" class=\"data row7 col6\" >0.7695</td>\n",
       "                        <td id=\"T_59d686e6_0ecc_11ea_bc09_b8e8563e215crow7_col7\" class=\"data row7 col7\" >1</td>\n",
       "                        <td id=\"T_59d686e6_0ecc_11ea_bc09_b8e8563e215crow7_col8\" class=\"data row7 col8\" >0.667814</td>\n",
       "                        <td id=\"T_59d686e6_0ecc_11ea_bc09_b8e8563e215crow7_col9\" class=\"data row7 col9\" >-0.138923</td>\n",
       "                        <td id=\"T_59d686e6_0ecc_11ea_bc09_b8e8563e215crow7_col10\" class=\"data row7 col10\" >-0.0637928</td>\n",
       "            </tr>\n",
       "            <tr>\n",
       "                        <th id=\"T_59d686e6_0ecc_11ea_bc09_b8e8563e215clevel0_row8\" class=\"row_heading level0 row8\" >10</th>\n",
       "                        <td id=\"T_59d686e6_0ecc_11ea_bc09_b8e8563e215crow8_col0\" class=\"data row8 col0\" >0.208805</td>\n",
       "                        <td id=\"T_59d686e6_0ecc_11ea_bc09_b8e8563e215crow8_col1\" class=\"data row8 col1\" >-0.128129</td>\n",
       "                        <td id=\"T_59d686e6_0ecc_11ea_bc09_b8e8563e215crow8_col2\" class=\"data row8 col2\" >0.206662</td>\n",
       "                        <td id=\"T_59d686e6_0ecc_11ea_bc09_b8e8563e215crow8_col3\" class=\"data row8 col3\" >0.0592804</td>\n",
       "                        <td id=\"T_59d686e6_0ecc_11ea_bc09_b8e8563e215crow8_col4\" class=\"data row8 col4\" >0.308481</td>\n",
       "                        <td id=\"T_59d686e6_0ecc_11ea_bc09_b8e8563e215crow8_col5\" class=\"data row8 col5\" >0.13175</td>\n",
       "                        <td id=\"T_59d686e6_0ecc_11ea_bc09_b8e8563e215crow8_col6\" class=\"data row8 col6\" >0.641644</td>\n",
       "                        <td id=\"T_59d686e6_0ecc_11ea_bc09_b8e8563e215crow8_col7\" class=\"data row8 col7\" >0.667814</td>\n",
       "                        <td id=\"T_59d686e6_0ecc_11ea_bc09_b8e8563e215crow8_col8\" class=\"data row8 col8\" >1</td>\n",
       "                        <td id=\"T_59d686e6_0ecc_11ea_bc09_b8e8563e215crow8_col9\" class=\"data row8 col9\" >-0.243913</td>\n",
       "                        <td id=\"T_59d686e6_0ecc_11ea_bc09_b8e8563e215crow8_col10\" class=\"data row8 col10\" >0.164773</td>\n",
       "            </tr>\n",
       "            <tr>\n",
       "                        <th id=\"T_59d686e6_0ecc_11ea_bc09_b8e8563e215clevel0_row9\" class=\"row_heading level0 row9\" >11</th>\n",
       "                        <td id=\"T_59d686e6_0ecc_11ea_bc09_b8e8563e215crow9_col0\" class=\"data row9 col0\" >-0.0516423</td>\n",
       "                        <td id=\"T_59d686e6_0ecc_11ea_bc09_b8e8563e215crow9_col1\" class=\"data row9 col1\" >0.13238</td>\n",
       "                        <td id=\"T_59d686e6_0ecc_11ea_bc09_b8e8563e215crow9_col2\" class=\"data row9 col2\" >-0.103982</td>\n",
       "                        <td id=\"T_59d686e6_0ecc_11ea_bc09_b8e8563e215crow9_col3\" class=\"data row9 col3\" >0.183044</td>\n",
       "                        <td id=\"T_59d686e6_0ecc_11ea_bc09_b8e8563e215crow9_col4\" class=\"data row9 col4\" >-0.111124</td>\n",
       "                        <td id=\"T_59d686e6_0ecc_11ea_bc09_b8e8563e215crow9_col5\" class=\"data row9 col5\" >-0.0157343</td>\n",
       "                        <td id=\"T_59d686e6_0ecc_11ea_bc09_b8e8563e215crow9_col6\" class=\"data row9 col6\" >-0.157254</td>\n",
       "                        <td id=\"T_59d686e6_0ecc_11ea_bc09_b8e8563e215crow9_col7\" class=\"data row9 col7\" >-0.138923</td>\n",
       "                        <td id=\"T_59d686e6_0ecc_11ea_bc09_b8e8563e215crow9_col8\" class=\"data row9 col8\" >-0.243913</td>\n",
       "                        <td id=\"T_59d686e6_0ecc_11ea_bc09_b8e8563e215crow9_col9\" class=\"data row9 col9\" >1</td>\n",
       "                        <td id=\"T_59d686e6_0ecc_11ea_bc09_b8e8563e215crow9_col10\" class=\"data row9 col10\" >-0.315332</td>\n",
       "            </tr>\n",
       "            <tr>\n",
       "                        <th id=\"T_59d686e6_0ecc_11ea_bc09_b8e8563e215clevel0_row10\" class=\"row_heading level0 row10\" >12</th>\n",
       "                        <td id=\"T_59d686e6_0ecc_11ea_bc09_b8e8563e215crow10_col0\" class=\"data row10 col0\" >0.0019666</td>\n",
       "                        <td id=\"T_59d686e6_0ecc_11ea_bc09_b8e8563e215crow10_col1\" class=\"data row10 col1\" >-0.0654125</td>\n",
       "                        <td id=\"T_59d686e6_0ecc_11ea_bc09_b8e8563e215crow10_col2\" class=\"data row10 col2\" >-0.0183579</td>\n",
       "                        <td id=\"T_59d686e6_0ecc_11ea_bc09_b8e8563e215crow10_col3\" class=\"data row10 col3\" >0.169395</td>\n",
       "                        <td id=\"T_59d686e6_0ecc_11ea_bc09_b8e8563e215crow10_col4\" class=\"data row10 col4\" >0.0818227</td>\n",
       "                        <td id=\"T_59d686e6_0ecc_11ea_bc09_b8e8563e215crow10_col5\" class=\"data row10 col5\" >-0.052681</td>\n",
       "                        <td id=\"T_59d686e6_0ecc_11ea_bc09_b8e8563e215crow10_col6\" class=\"data row10 col6\" >0.00155006</td>\n",
       "                        <td id=\"T_59d686e6_0ecc_11ea_bc09_b8e8563e215crow10_col7\" class=\"data row10 col7\" >-0.0637928</td>\n",
       "                        <td id=\"T_59d686e6_0ecc_11ea_bc09_b8e8563e215crow10_col8\" class=\"data row10 col8\" >0.164773</td>\n",
       "                        <td id=\"T_59d686e6_0ecc_11ea_bc09_b8e8563e215crow10_col9\" class=\"data row10 col9\" >-0.315332</td>\n",
       "                        <td id=\"T_59d686e6_0ecc_11ea_bc09_b8e8563e215crow10_col10\" class=\"data row10 col10\" >1</td>\n",
       "            </tr>\n",
       "    </tbody></table>"
      ],
      "text/plain": [
       "<pandas.io.formats.style.Styler at 0x1a1de1d650>"
      ]
     },
     "execution_count": 23,
     "metadata": {},
     "output_type": "execute_result"
    }
   ],
   "source": [
    "data = X\n",
    "corr = data.corr()\n",
    "corr.style.background_gradient(cmap='coolwarm')"
   ]
  },
  {
   "cell_type": "markdown",
   "metadata": {},
   "source": [
    "**ROC Curve**\n",
    "\n",
    "Source: https://scikit-learn.org/stable/auto_examples/model_selection/plot_roc_crossval.html#sphx-glr-download-auto-examples-model-selection-plot-roc-crossval-py"
   ]
  },
  {
   "cell_type": "code",
   "execution_count": 24,
   "metadata": {},
   "outputs": [
    {
     "data": {
      "image/png": "[encoded data removed]",
      "text/plain": [
       "<Figure size 432x288 with 1 Axes>"
      ]
     },
     "metadata": {},
     "output_type": "display_data"
    },
    {
     "data": {
      "image/png": "[encoded data removed]",
      "text/plain": [
       "<Figure size 1080x576 with 1 Axes>"
      ]
     },
     "metadata": {},
     "output_type": "display_data"
    }
   ],
   "source": [
    "X = df.iloc[:,8:26]\n",
    "y = df['like_usefulness_binary']\n",
    "X, y = X[y != 2], y[y != 2]\n",
    "n_samples, n_features = X.shape\n",
    "\n",
    "# Add noisy features\n",
    "random_state = np.random.RandomState(0)\n",
    "X = np.c_[X, random_state.randn(n_samples, 200 * n_features)]\n",
    "\n",
    "# Classification and ROC analysis\n",
    "\n",
    "# Run classifier with cross-validation and plot ROC curves\n",
    "kf = KFold(n_splits=10,shuffle=False)\n",
    "classifier = RandomForestClassifier(n_estimators=1000, max_depth=10, random_state=0)\n",
    "\n",
    "tprs = []\n",
    "aucs = []\n",
    "mean_fpr = np.linspace(0, 1, 100)\n",
    "\n",
    "i = 0\n",
    "\n",
    "#for train, test in cv.split(X, y):\n",
    "for train, test in kf.split(X):\n",
    "    prediction = classifier.fit(X[train], y[train]).predict_proba(X[test])\n",
    "    # Compute ROC curve and area the curve\n",
    "    fpr, tpr, thresholds = roc_curve(y[test], prediction[:, 1])\n",
    "    tprs.append(interp(mean_fpr, fpr, tpr))\n",
    "    tprs[-1][0] = 0.0\n",
    "    roc_auc = auc(fpr, tpr)\n",
    "    aucs.append(roc_auc)\n",
    "    plt.plot(fpr, tpr, lw=1, alpha=0.3,\n",
    "             label='ROC fold %d (AUC = %0.2f)' % (i, roc_auc))\n",
    "\n",
    "    i += 1\n",
    "plt.plot([0, 1], [0, 1], linestyle='--', lw=2, color='r',\n",
    "         label='Chance', alpha=.8)\n",
    "\n",
    "mean_tpr = np.mean(tprs, axis=0)\n",
    "mean_tpr[-1] = 1.0\n",
    "mean_auc = auc(mean_fpr, mean_tpr)\n",
    "std_auc = np.std(aucs)\n",
    "plt.figure(figsize = (15,8))\n",
    "plt.plot(mean_fpr, mean_tpr, color='b',\n",
    "         label=r'Mean ROC (AUC = %0.2f $\\pm$ %0.2f)' % (mean_auc, std_auc),\n",
    "         lw=2, alpha=.8)\n",
    "\n",
    "std_tpr = np.std(tprs, axis=0)\n",
    "tprs_upper = np.minimum(mean_tpr + std_tpr, 1)\n",
    "tprs_lower = np.maximum(mean_tpr - std_tpr, 0)\n",
    "plt.fill_between(mean_fpr, tprs_lower, tprs_upper, color='grey', alpha=.2,\n",
    "                 label=r'$\\pm$ 1 std. dev.')\n",
    "plt.plot(plt.xlim(), plt.ylim(), ls=\"--\", c=\".3\")\n",
    "plt.xlim([0.0, 1.0])\n",
    "plt.ylim([0.0, 1.0])\n",
    "plt.xlabel('False Positive Rate')\n",
    "plt.ylabel('True Positive Rate')\n",
    "plt.title('Receiver operating curve')\n",
    "plt.legend(loc=\"lower right\")\n",
    "plt.show()\n"
   ]
  }
 ],
 "metadata": {
  "kernelspec": {
   "display_name": "Python 3",
   "language": "python",
   "name": "python3"
  },
  "language_info": {
   "codemirror_mode": {
    "name": "ipython",
    "version": 3
   },
   "file_extension": ".py",
   "mimetype": "text/x-python",
   "name": "python",
   "nbconvert_exporter": "python",
   "pygments_lexer": "ipython3",
   "version": "3.7.4"
  }
 },
 "nbformat": 4,
 "nbformat_minor": 2
}
